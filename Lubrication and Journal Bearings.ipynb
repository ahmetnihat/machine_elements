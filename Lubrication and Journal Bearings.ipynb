{
 "cells": [
  {
   "cell_type": "markdown",
   "id": "37eee8b4",
   "metadata": {},
   "source": [
    "# Lubrication and Journal Bearings"
   ]
  },
  {
   "cell_type": "markdown",
   "id": "e4542eb4",
   "metadata": {},
   "source": [
    "## Tanımlar"
   ]
  },
  {
   "cell_type": "markdown",
   "id": "26f3f701",
   "metadata": {},
   "source": [
    "* **P :** *Nominal yatak basıncı (***Pa***)*  \n",
    "* **W :** *Yatak yükü (***Newton cinsinden***)*  \n",
    "* **r :** *Mil çapı (***mm***)*  \n",
    "* **c :** *Radyal boşluk (***mm***)*  \n",
    "* **l :** *Yatak boyu (***mm***)*  \n",
    "* ***N :*** *dönüş hızı (***rps***)*  \n",
    "* ***u :*** *mü (***Pa.s***)*  \n",
    "* ***h0 :*** *minimum film kalınlığı (***Şekil 12-16*** -h0/c-)*\n",
    "* ***E :*** *Eksantrisite oranı -boyutsuz- (***Şekil 12-16***)*  \n",
    "* ***f :*** *Sürtünme katsayısı (***Şekil 12-18***)*  \n",
    "* ***T :*** *Mil üzerindeki sürtünme kuvveti (***N.m***)*  \n",
    "* ***hp :*** *Sürtünme güç kaybı (***W***)*  \n",
    "* ***Q :*** *Hacimsel debi (***mm^3/s***)*  \n",
    "* ***Qs :*** *Kenar sızıntı debisi (***mm^3/s***)*  <br></br>\n",
    "* ***fi :*** *Minumum film kalınlığının pozisyonu (***derece***)*  \n",
    "* ***teta_Pmax :*** *Yağ filmindeki maksimum basınç değerinin oluştuğu konumun derecesi (***derece***)*    \n",
    "* ***teta_P0 :*** *Film basıncının bittiği pozisyon (***derece***)*    "
   ]
  },
  {
   "cell_type": "markdown",
   "id": "85d92ae1",
   "metadata": {},
   "source": [
    "## Formüller"
   ]
  },
  {
   "cell_type": "code",
   "execution_count": 1,
   "id": "42a74343",
   "metadata": {},
   "outputs": [],
   "source": [
    "from math import pi\n",
    "\n",
    "def mm2m(mm):\n",
    "    return mm / 1000\n",
    "\n",
    "def MPa2Pa(MPa):\n",
    "    return MPa * 10**6\n",
    "\n",
    "def Pa2MPa(Pa):\n",
    "    return Pa / 10**6\n",
    "\n",
    "def nominal_bearing_pressure(W, r, l):\n",
    "    P = W / (2 * mm2m(r) * mm2m(l))\n",
    "    print(f\"{P} Pa\")\n",
    "    return P\n",
    "\n",
    "def Sommerfeld(r, c, u, N, P):\n",
    "    S = ((r / c) ** 2) * ((u * N) / P)\n",
    "    print(f\"{S} = (({r} mm / {c} mm) ** 2) * (({u} Pa.s * {N} rps) / {P} Pa)\")\n",
    "    return S\n",
    "\n",
    "def h0_calculate(h0pc, c):\n",
    "    h0 = h0pc * c\n",
    "    print(f\"h0 = {h0}\")\n",
    "    return h0\n",
    "\n",
    "def l_per_d(l, r):\n",
    "    l_per_d = l / (2 * r)\n",
    "    print(f\"l / d = {l_per_d}\")\n",
    "    return l_per_d\n",
    "\n",
    "def eccentricity(epc, c):\n",
    "    E = epc * c\n",
    "    print(f\"Eksantrisite oranı : E = {E}\")\n",
    "    return E\n",
    "\n",
    "def coefficient_of_friction(rcf, r, c):\n",
    "    f = rcf * (c / r)\n",
    "    print(f\"Sürtünme katsayısı : f = {f}\")\n",
    "    return f\n",
    "\n",
    "def friction_torque(f, W, r):\n",
    "    T = f * W * mm2m(r)\n",
    "    print(f\"Mil üzerindeki sürtünme kuvveti : T = {T} N.m\")\n",
    "    return T\n",
    "\n",
    "def hp_loss(T, N):\n",
    "    hp = T * N * 2 * pi\n",
    "    print(f\"Güç kaybı : (Hp)loss = {hp} W\")\n",
    "    return hp\n",
    "\n",
    "def volumetric_flow(QpValues, r, c, N, l):\n",
    "    Q = QpValues * r * c * N * l\n",
    "    print(f\"Hacimsel debi : Q = {Q} mm^3/s\")\n",
    "    return Q\n",
    "\n",
    "def side_flow_rate(QpQs, Q):\n",
    "    Qs = QpQs * Q\n",
    "    print(f\"Kenar sızıntı debisi : Qs = {Qs} mm^3/s\")\n",
    "    return Qs\n",
    "    \n",
    "def maximum_film_pressure(PpPmax, P):\n",
    "    Pmax = P / PpPmax\n",
    "    print(f\"Maksimum film basıncı : Pmax = {Pmax} Pa\")\n",
    "    return Pmax\n",
    "\n",
    "\n",
    "# ***Sembollerin yanındaki p harfleri per anlamında kullanılmıştır. PpPmax = P/Pmax vb."
   ]
  },
  {
   "cell_type": "markdown",
   "id": "647de29c",
   "metadata": {},
   "source": [
    "## Örnekler"
   ]
  },
  {
   "cell_type": "markdown",
   "id": "bec6af7e",
   "metadata": {},
   "source": [
    "### Örnek 12-1  \n",
    "*u = 0.02756 Pa.sn, *N* = 30 dev/sn, W = 2210 N (yatak yükü), r = 19 mm, c = 0.038 mm ve l = 38 mm parametrelerini kullanarak h0 ve *e* değerlerini hesaplayınız.*"
   ]
  },
  {
   "cell_type": "code",
   "execution_count": 2,
   "id": "ec067ac2",
   "metadata": {},
   "outputs": [],
   "source": [
    "# Verilen değerler\n",
    "W = 2210     # N\n",
    "r = 19       # mm\n",
    "c = 0.038    # mm\n",
    "u = 0.02756  # Pa.s\n",
    "N = 30       # rps\n",
    "l = 38       # mm"
   ]
  },
  {
   "cell_type": "code",
   "execution_count": 3,
   "id": "f0983125",
   "metadata": {},
   "outputs": [
    {
     "name": "stdout",
     "output_type": "stream",
     "text": [
      "1530470.914127424 Pa\n",
      "1.530470914127424 MPa\n"
     ]
    }
   ],
   "source": [
    "# 1. Adım (Nominal Yatak basıncı bulunur.)\n",
    "\n",
    "P = nominal_bearing_pressure(W, r, l)\n",
    "\n",
    "print(f\"{Pa2MPa(P)} MPa\")"
   ]
  },
  {
   "cell_type": "code",
   "execution_count": 4,
   "id": "54a23d9f",
   "metadata": {},
   "outputs": [
    {
     "name": "stdout",
     "output_type": "stream",
     "text": [
      "0.13505647058823528 = ((19 mm / 0.038 mm) ** 2) * ((0.02756 Pa.s * 30 rps) / 1530470.914127424 Pa)\n"
     ]
    }
   ],
   "source": [
    "# 2. Adım (Sommerfeld sayısı bulunur.)\n",
    "\n",
    "S = Sommerfeld(r, c, u, N, P)"
   ]
  },
  {
   "cell_type": "code",
   "execution_count": 5,
   "id": "686e967f",
   "metadata": {},
   "outputs": [
    {
     "name": "stdout",
     "output_type": "stream",
     "text": [
      "l / d = 1.0\n",
      "h0 = 0.01596\n",
      "Eksantrisite oranı : E = 0.022039999999999997\n"
     ]
    }
   ],
   "source": [
    "# 3. Adım (l/d bulunduktan sonra Sommerfeld sayısı ile grafikten istenen değerler okunur.)\n",
    "\n",
    "h0pc = 0.42\n",
    "epc = 0.58\n",
    "\n",
    "l_per_d = l_per_d(l, r)\n",
    "h0 = h0_calculate(h0pc, c)\n",
    "E = eccentricity(epc, c)"
   ]
  },
  {
   "cell_type": "markdown",
   "id": "974dd49b",
   "metadata": {},
   "source": [
    "### Örnek 12-2  \n",
    "*Örnek 12-1'de verilen parametreler kullanılarak, sürtünme katsayısını, sürtünmeyi yenecek momenti ve sürtünme gü. kaybını hesaplayınız.*"
   ]
  },
  {
   "cell_type": "code",
   "execution_count": 6,
   "id": "e65786c5",
   "metadata": {},
   "outputs": [
    {
     "name": "stdout",
     "output_type": "stream",
     "text": [
      "Sürtünme katsayısı : f = 0.007\n"
     ]
    }
   ],
   "source": [
    "# 4. Adım ((r/c)f Sommerfeld sayısı ile şekil 12-18'den okunarak sürtünme katsayısını bulunur.)\n",
    "\n",
    "rcf = 3.50\n",
    "\n",
    "f = coefficient_of_friction(rcf, r, c)"
   ]
  },
  {
   "cell_type": "code",
   "execution_count": 7,
   "id": "38cefe96",
   "metadata": {},
   "outputs": [
    {
     "name": "stdout",
     "output_type": "stream",
     "text": [
      "Mil üzerindeki sürtünme kuvveti : T = 0.29393 N.m\n"
     ]
    }
   ],
   "source": [
    "# 5. Adım (Bulunan sürtünme katsayısı ile Mil üzerindeki sürtünme kuvveti)\n",
    "\n",
    "T = friction_torque(f, W, r)"
   ]
  },
  {
   "cell_type": "code",
   "execution_count": 8,
   "id": "2211f76c",
   "metadata": {},
   "outputs": [
    {
     "name": "stdout",
     "output_type": "stream",
     "text": [
      "Güç kaybı : (Hp)loss = 55.40449972017888 W\n"
     ]
    }
   ],
   "source": [
    "# 6. Adım (Güç kaybı T ile hesaplanır.)\n",
    "\n",
    "hploss = hp_loss(T, N)"
   ]
  },
  {
   "cell_type": "markdown",
   "id": "ccdad868",
   "metadata": {},
   "source": [
    "### Örnek 12-3  \n",
    "*Örnek 12-1'de verilen parametreler kullanılarak, hacimsel debi Q ve kenar sızıntı debisi Qs'yi hesaplayınız.*"
   ]
  },
  {
   "cell_type": "code",
   "execution_count": 9,
   "id": "26b92704",
   "metadata": {},
   "outputs": [
    {
     "name": "stdout",
     "output_type": "stream",
     "text": [
      "Hacimsel debi : Q = 3522.7824 mm^3/s\n",
      "Kenar sızıntı debisi : Qs = 2307.422472 mm^3/s\n"
     ]
    }
   ],
   "source": [
    "# 7. Adım (Q için Şekil 12-19, Qs için Şekil 12-20 kullanılır.)\n",
    "QpValues = 4.28\n",
    "QpQs = 0.655\n",
    "\n",
    "Q = volumetric_flow(QpValues, r, c, N, l)\n",
    "Qs = side_flow_rate(QpQs, Q)"
   ]
  },
  {
   "cell_type": "markdown",
   "id": "e90b2a94",
   "metadata": {},
   "source": [
    "### Örnek 12-4  \n",
    "*Örnek 12-1'de verilen parametreler kullanılarak, maksimum film basıncının değerini, yağlayıcı filminin sona erdiği ve maksimum basıncın oluştuğu konumları belirleyiniz.*"
   ]
  },
  {
   "cell_type": "code",
   "execution_count": 11,
   "id": "c78f4a5e",
   "metadata": {},
   "outputs": [
    {
     "name": "stdout",
     "output_type": "stream",
     "text": [
      "Maksimum film basıncı : Pmax = 3643978.366970057 Pa\n",
      "3.643978366970057 MPa\n"
     ]
    }
   ],
   "source": [
    "# 8. Adım (P / Pmax Şekil 12-21'den bulunur.)\n",
    "\n",
    "PpPmax = 0.42\n",
    "\n",
    "Pmax = maximum_film_pressure(PpPmax, P)\n",
    "\n",
    "print(f\"{Pa2MPa(Pmax)} MPa\")"
   ]
  },
  {
   "cell_type": "code",
   "execution_count": 13,
   "id": "b94b9e62",
   "metadata": {},
   "outputs": [],
   "source": [
    "# 9. Adım (Sommerfeld sayısı ve l/d kullanılarak Şekil 12-22'den Pmax ve P0 konumları bulunur.)\n",
    "teta_Pmax = 18.5 # derece\n",
    "teta_P0 = 75 # derece"
   ]
  },
  {
   "cell_type": "markdown",
   "id": "f4381bcb",
   "metadata": {},
   "source": [
    "### Örnek 12-5\n",
    "*Örnek 12-1'de verilen parametreler kullanılarak, maksimum film basıncının değerini, yağlayıcı filminin sona erdiği ve maksimum basıncın oluştuğu konumları belirleyiniz.*\n"
   ]
  },
  {
   "cell_type": "code",
   "execution_count": null,
   "id": "7c895c3c",
   "metadata": {},
   "outputs": [],
   "source": []
  }
 ],
 "metadata": {
  "kernelspec": {
   "display_name": "Python 3 (ipykernel)",
   "language": "python",
   "name": "python3"
  },
  "language_info": {
   "codemirror_mode": {
    "name": "ipython",
    "version": 3
   },
   "file_extension": ".py",
   "mimetype": "text/x-python",
   "name": "python",
   "nbconvert_exporter": "python",
   "pygments_lexer": "ipython3",
   "version": "3.8.16"
  }
 },
 "nbformat": 4,
 "nbformat_minor": 5
}
